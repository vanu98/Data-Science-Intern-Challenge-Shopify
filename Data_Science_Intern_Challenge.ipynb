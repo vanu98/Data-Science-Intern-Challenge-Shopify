{
  "nbformat": 4,
  "nbformat_minor": 0,
  "metadata": {
    "colab": {
      "name": "Data Science Intern Challenge.ipynb",
      "provenance": []
    },
    "kernelspec": {
      "name": "python3",
      "display_name": "Python 3"
    },
    "language_info": {
      "name": "python"
    }
  },
  "cells": [
    {
      "cell_type": "markdown",
      "source": [
        "Reading the Data"
      ],
      "metadata": {
        "id": "ObRexfyTzHFQ"
      }
    },
    {
      "cell_type": "code",
      "source": [
        "import pandas as pd\n",
        "import numpy as np\n",
        "data = pd.read_csv('2019 Winter Data Science Intern Challenge Data Set - Sheet1.csv')"
      ],
      "metadata": {
        "id": "eX_1Ht3-y4_3"
      },
      "execution_count": 1,
      "outputs": []
    },
    {
      "cell_type": "code",
      "source": [
        "data.shape"
      ],
      "metadata": {
        "colab": {
          "base_uri": "https://localhost:8080/"
        },
        "id": "wr1xPqqrzg2j",
        "outputId": "fce65b1a-5d0a-4ac1-8e5a-da71544ad91d"
      },
      "execution_count": 6,
      "outputs": [
        {
          "output_type": "execute_result",
          "data": {
            "text/plain": [
              "(5000, 7)"
            ]
          },
          "metadata": {},
          "execution_count": 6
        }
      ]
    },
    {
      "cell_type": "code",
      "source": [
        "data.columns"
      ],
      "metadata": {
        "colab": {
          "base_uri": "https://localhost:8080/"
        },
        "id": "eXLct0YjzhUl",
        "outputId": "f6d1ff02-1db6-40e1-d006-55ebe133a369"
      },
      "execution_count": 12,
      "outputs": [
        {
          "output_type": "execute_result",
          "data": {
            "text/plain": [
              "Index(['order_id', 'shop_id', 'user_id', 'order_amount', 'total_items',\n",
              "       'payment_method', 'created_at'],\n",
              "      dtype='object')"
            ]
          },
          "metadata": {},
          "execution_count": 12
        }
      ]
    },
    {
      "cell_type": "code",
      "source": [
        "summary_order_amt = data['order_amount'].describe()\n",
        "summary_order_item = data['total_items'].describe()"
      ],
      "metadata": {
        "id": "oTA-Un4jzshr"
      },
      "execution_count": 19,
      "outputs": []
    },
    {
      "cell_type": "code",
      "source": [
        "summary_order_amt['mean']"
      ],
      "metadata": {
        "colab": {
          "base_uri": "https://localhost:8080/"
        },
        "id": "pIjc-B4MEGCl",
        "outputId": "79865721-23e2-4020-e315-53b556de562c"
      },
      "execution_count": 53,
      "outputs": [
        {
          "output_type": "execute_result",
          "data": {
            "text/plain": [
              "3145.128"
            ]
          },
          "metadata": {},
          "execution_count": 53
        }
      ]
    },
    {
      "cell_type": "markdown",
      "source": [
        "From the above mean value calculated, it indicated that the mean value of the total order amount for all the shops was calculated, while it AOV actually means average cost of a order placed in 30 day window. \n",
        "\n",
        "Below we have calculated the correct aoc and followed by a proper metric for calculation."
      ],
      "metadata": {
        "id": "PoDwRm7GFYGZ"
      }
    },
    {
      "cell_type": "code",
      "source": [
        "sum(data['order_amount'])/sum(data['total_items'])"
      ],
      "metadata": {
        "colab": {
          "base_uri": "https://localhost:8080/"
        },
        "id": "LryzIPBy0Sv0",
        "outputId": "dceb9671-de41-4bde-c5f7-b453596b906e"
      },
      "execution_count": 27,
      "outputs": [
        {
          "output_type": "execute_result",
          "data": {
            "text/plain": [
              "357.92152221412965"
            ]
          },
          "metadata": {},
          "execution_count": 27
        }
      ]
    },
    {
      "cell_type": "markdown",
      "source": [
        "## No of Unique customers in the dataset\n",
        "We will consider a metric which will lead us to know how much an average customer spends at all our sneaker stores. Leading to know the likeliness of our product in general."
      ],
      "metadata": {
        "id": "rIf2_hN48li5"
      }
    },
    {
      "cell_type": "code",
      "source": [
        "len(data['user_id'].unique())"
      ],
      "metadata": {
        "colab": {
          "base_uri": "https://localhost:8080/"
        },
        "id": "Yp5WDwBL0akP",
        "outputId": "2688db61-c59b-4993-88de-5f03962606e3"
      },
      "execution_count": 28,
      "outputs": [
        {
          "output_type": "execute_result",
          "data": {
            "text/plain": [
              "301"
            ]
          },
          "metadata": {},
          "execution_count": 28
        }
      ]
    },
    {
      "cell_type": "markdown",
      "source": [
        "##Question 2 (new metric)\n",
        "## Average order value by each customer in the 30 day window"
      ],
      "metadata": {
        "id": "kR4BChe0-zU2"
      }
    },
    {
      "cell_type": "code",
      "source": [
        "sums = 0\n",
        "for i in data['user_id'].unique():\n",
        "  s = data.loc[data['user_id'] == i]\n",
        "  sums+=sum(s['order_amount'])\n",
        "avg_cust_spent = sums/len(data['user_id'].unique())"
      ],
      "metadata": {
        "id": "yDp4kYZY3z7o"
      },
      "execution_count": 51,
      "outputs": []
    },
    {
      "cell_type": "markdown",
      "source": [
        "## Question 3 (Value)"
      ],
      "metadata": {
        "id": "r-j5IXD1Chzh"
      }
    },
    {
      "cell_type": "code",
      "source": [
        "avg_cust_spent"
      ],
      "metadata": {
        "colab": {
          "base_uri": "https://localhost:8080/"
        },
        "id": "IccGZJH98dTx",
        "outputId": "ad79d7da-6d92-4d58-b1bc-5c22557b5318"
      },
      "execution_count": 52,
      "outputs": [
        {
          "output_type": "execute_result",
          "data": {
            "text/plain": [
              "52244.651162790695"
            ]
          },
          "metadata": {},
          "execution_count": 52
        }
      ]
    },
    {
      "cell_type": "markdown",
      "source": [
        "Average order value by each customer in the 30 day window = $52244.651162"
      ],
      "metadata": {
        "id": "twqofI8WCW4D"
      }
    }
  ]
}